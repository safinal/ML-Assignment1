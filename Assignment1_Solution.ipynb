{
  "cells": [
    {
      "cell_type": "markdown",
      "metadata": {
        "id": "CX8u9EWANHVk"
      },
      "source": [
        "# Imports"
      ]
    },
    {
      "cell_type": "code",
      "execution_count": null,
      "metadata": {
        "id": "7iEn22riNI6r"
      },
      "outputs": [],
      "source": [
        "import numpy as np\n",
        "import pandas as pd\n",
        "from matplotlib import pyplot as plt\n",
        "from IPython.display import clear_output\n",
        "from sklearn.preprocessing import StandardScaler, LabelEncoder\n",
        "from sklearn.model_selection import train_test_split, GridSearchCV\n",
        "from sklearn.tree import DecisionTreeClassifier\n",
        "from sklearn.ensemble import RandomForestClassifier\n",
        "from sklearn.neural_network import MLPClassifier\n",
        "from sklearn.naive_bayes import GaussianNB\n",
        "from sklearn.metrics import accuracy_score, classification_report\n",
        "from sklearn.datasets import load_iris, load_digits"
      ]
    },
    {
      "cell_type": "markdown",
      "metadata": {
        "id": "tInsxaT5YaHQ"
      },
      "source": [
        "# Constants"
      ]
    },
    {
      "cell_type": "code",
      "execution_count": null,
      "metadata": {
        "id": "Ym2t3P90YWhR"
      },
      "outputs": [],
      "source": [
        "SEED = 42"
      ]
    },
    {
      "cell_type": "markdown",
      "metadata": {
        "id": "LYC0sQNVcxvW"
      },
      "source": [
        "# Loading the dataset"
      ]
    },
    {
      "cell_type": "code",
      "execution_count": null,
      "metadata": {
        "id": "WRuWivxxNS80"
      },
      "outputs": [],
      "source": [
        "! rm -rf *\n",
        "! wget https://archive.ics.uci.edu/static/public/53/iris.zip\n",
        "! unzip iris.zip\n",
        "! rm iris.zip Index iris.names\n",
        "clear_output()"
      ]
    },
    {
      "cell_type": "code",
      "execution_count": null,
      "metadata": {
        "id": "uvMjeSRiNsO0"
      },
      "outputs": [],
      "source": [
        "# Another way to load the dataset\n",
        "# X, y = load_iris(as_frame=True)['data'], load_iris(as_frame=True)['target']\n",
        "df = pd.read_csv('bezdekIris.data', names=['sepal length', 'sepal width', 'petal length', 'petal width', 'class'])"
      ]
    },
    {
      "cell_type": "markdown",
      "metadata": {
        "id": "9WMvGGkD27vq"
      },
      "source": [
        "# Preparing the dataset"
      ]
    },
    {
      "cell_type": "code",
      "execution_count": null,
      "metadata": {
        "id": "6icuSsw7d0_h"
      },
      "outputs": [],
      "source": [
        "def data_preparation_before_split(df: pd.DataFrame, is_test: bool):\n",
        "    df_temp = df.copy()\n",
        "    parameters = dict()\n",
        "\n",
        "    if is_test:\n",
        "        return df_temp\n",
        "\n",
        "    X = df_temp.drop(columns='class')\n",
        "    y = df_temp['class']\n",
        "    parameters['label_encoder'] = LabelEncoder().fit(y)\n",
        "    y = parameters['label_encoder'].transform(y)\n",
        "\n",
        "    return X, y, parameters\n",
        "\n",
        "def data_preparation_after_split(X: pd.DataFrame, y: pd.DataFrame, is_train: bool, parameters: dict = dict()):\n",
        "    \"\"\"\n",
        "    parameters dict may have these keys:\n",
        "    scaler, ordinal_encoder, label_encoder, mapping_dicts,\n",
        "    categorical_imputer, numerical_imputer, etc...\n",
        "    \"\"\"\n",
        "    X_temp = X.copy()\n",
        "    y_temp = y.copy() if is_train else None\n",
        "\n",
        "\n",
        "    # scale\n",
        "    if is_train:\n",
        "        parameters['scaler'] = StandardScaler().fit(X_temp)\n",
        "    X_temp = pd.DataFrame(parameters['scaler'].transform(X_temp), columns=parameters['scaler'].feature_names_in_)\n",
        "\n",
        "    return (X_temp, y_temp, parameters) if is_train else X_temp\n",
        "\n",
        "\n",
        "\n",
        "X, y, parameters = data_preparation_before_split(df, is_test=False)\n",
        "\n",
        "X_train, X_dev, y_train, y_dev = train_test_split(X, y, test_size=0.3, random_state=SEED)\n",
        "\n",
        "X_train, y_train, _  = data_preparation_after_split(X=X_train, y=y_train, is_train=True)\n",
        "parameters.update(_)\n",
        "X_dev = data_preparation_after_split(X=X_dev, y=None, is_train=False, parameters=parameters)"
      ]
    },
    {
      "cell_type": "markdown",
      "metadata": {
        "id": "9bll_Pnr1_bo"
      },
      "source": [
        "# Comparing models with their default hyperparameters"
      ]
    },
    {
      "cell_type": "code",
      "execution_count": null,
      "metadata": {
        "colab": {
          "base_uri": "https://localhost:8080/"
        },
        "id": "_ykSp8_j1-bq",
        "outputId": "072c7685-721f-4428-c922-2d94cfbe1d96"
      },
      "outputs": [
        {
          "name": "stdout",
          "output_type": "stream",
          "text": [
            "\n",
            "\n",
            "Naive Bayes model:\n",
            "Train Accuracy: 0.9429, Validation Accuracy: 0.9778\n",
            "Train Classification Report:\n",
            "              precision    recall  f1-score   support\n",
            "\n",
            "           0       1.00      1.00      1.00        31\n",
            "           1       0.92      0.92      0.92        37\n",
            "           2       0.92      0.92      0.92        37\n",
            "\n",
            "    accuracy                           0.94       105\n",
            "   macro avg       0.95      0.95      0.95       105\n",
            "weighted avg       0.94      0.94      0.94       105\n",
            "\n",
            "Validation Classification Report:\n",
            "              precision    recall  f1-score   support\n",
            "\n",
            "           0       1.00      1.00      1.00        19\n",
            "           1       1.00      0.92      0.96        13\n",
            "           2       0.93      1.00      0.96        13\n",
            "\n",
            "    accuracy                           0.98        45\n",
            "   macro avg       0.98      0.97      0.97        45\n",
            "weighted avg       0.98      0.98      0.98        45\n",
            "\n",
            "\n",
            "\n",
            "Decision Tree model:\n",
            "Train Accuracy: 1.0000, Validation Accuracy: 1.0000\n",
            "Train Classification Report:\n",
            "              precision    recall  f1-score   support\n",
            "\n",
            "           0       1.00      1.00      1.00        31\n",
            "           1       1.00      1.00      1.00        37\n",
            "           2       1.00      1.00      1.00        37\n",
            "\n",
            "    accuracy                           1.00       105\n",
            "   macro avg       1.00      1.00      1.00       105\n",
            "weighted avg       1.00      1.00      1.00       105\n",
            "\n",
            "Validation Classification Report:\n",
            "              precision    recall  f1-score   support\n",
            "\n",
            "           0       1.00      1.00      1.00        19\n",
            "           1       1.00      1.00      1.00        13\n",
            "           2       1.00      1.00      1.00        13\n",
            "\n",
            "    accuracy                           1.00        45\n",
            "   macro avg       1.00      1.00      1.00        45\n",
            "weighted avg       1.00      1.00      1.00        45\n",
            "\n",
            "\n",
            "\n",
            "Random Forest model:\n",
            "Train Accuracy: 1.0000, Validation Accuracy: 1.0000\n",
            "Train Classification Report:\n",
            "              precision    recall  f1-score   support\n",
            "\n",
            "           0       1.00      1.00      1.00        31\n",
            "           1       1.00      1.00      1.00        37\n",
            "           2       1.00      1.00      1.00        37\n",
            "\n",
            "    accuracy                           1.00       105\n",
            "   macro avg       1.00      1.00      1.00       105\n",
            "weighted avg       1.00      1.00      1.00       105\n",
            "\n",
            "Validation Classification Report:\n",
            "              precision    recall  f1-score   support\n",
            "\n",
            "           0       1.00      1.00      1.00        19\n",
            "           1       1.00      1.00      1.00        13\n",
            "           2       1.00      1.00      1.00        13\n",
            "\n",
            "    accuracy                           1.00        45\n",
            "   macro avg       1.00      1.00      1.00        45\n",
            "weighted avg       1.00      1.00      1.00        45\n",
            "\n",
            "\n",
            "\n",
            "Neural network model:\n",
            "Train Accuracy: 0.9524, Validation Accuracy: 1.0000\n",
            "Train Classification Report:\n",
            "              precision    recall  f1-score   support\n",
            "\n",
            "           0       1.00      1.00      1.00        31\n",
            "           1       0.94      0.92      0.93        37\n",
            "           2       0.92      0.95      0.93        37\n",
            "\n",
            "    accuracy                           0.95       105\n",
            "   macro avg       0.96      0.95      0.95       105\n",
            "weighted avg       0.95      0.95      0.95       105\n",
            "\n",
            "Validation Classification Report:\n",
            "              precision    recall  f1-score   support\n",
            "\n",
            "           0       1.00      1.00      1.00        19\n",
            "           1       1.00      1.00      1.00        13\n",
            "           2       1.00      1.00      1.00        13\n",
            "\n",
            "    accuracy                           1.00        45\n",
            "   macro avg       1.00      1.00      1.00        45\n",
            "weighted avg       1.00      1.00      1.00        45\n",
            "\n"
          ]
        },
        {
          "name": "stderr",
          "output_type": "stream",
          "text": [
            "/usr/local/lib/python3.10/dist-packages/sklearn/neural_network/_multilayer_perceptron.py:686: ConvergenceWarning: Stochastic Optimizer: Maximum iterations (200) reached and the optimization hasn't converged yet.\n",
            "  warnings.warn(\n"
          ]
        }
      ],
      "source": [
        "classifiers = {\n",
        "    'Naive Bayes': GaussianNB(),\n",
        "    'Decision Tree': DecisionTreeClassifier(random_state=SEED),\n",
        "    'Random Forest': RandomForestClassifier(random_state=SEED, n_jobs=-1),\n",
        "    'Neural network': MLPClassifier(random_state=SEED)\n",
        "}\n",
        "\n",
        "for model_name, clf in classifiers.items():\n",
        "    clf.fit(X_train, y_train)\n",
        "    train_y_pred = clf.predict(X_train)\n",
        "    validation_y_pred = clf.predict(X_dev)\n",
        "    train_accuracy = accuracy_score(y_train, train_y_pred)\n",
        "    validation_accuracy = accuracy_score(y_dev, validation_y_pred)\n",
        "    train_classification_report = classification_report(y_train, train_y_pred)\n",
        "    validation_classification_report = classification_report(y_dev, validation_y_pred)\n",
        "    print(f\"\\n\\n{model_name} model:\\nTrain Accuracy: {train_accuracy:.4f}, Validation Accuracy: {validation_accuracy:.4f}\\nTrain Classification Report:\\n{train_classification_report}\\nValidation Classification Report:\\n{validation_classification_report}\")\n"
      ]
    },
    {
      "cell_type": "markdown",
      "metadata": {
        "id": "qTrz2cB22qzT"
      },
      "source": [
        "# Hyperparameter tuning"
      ]
    },
    {
      "cell_type": "code",
      "execution_count": null,
      "metadata": {
        "colab": {
          "base_uri": "https://localhost:8080/"
        },
        "id": "nqmO7gg5_86T",
        "outputId": "26cd1ec9-21d7-44a3-813d-2b96d80a66f8"
      },
      "outputs": [
        {
          "name": "stdout",
          "output_type": "stream",
          "text": [
            "\n",
            "\n",
            "Naive Bayes model:\n",
            "Best Hyperparameters: {'var_smoothing': 0.03511191734215131}\n",
            "Mean cross-validated acuuracy score: 0.9333\n",
            "\n",
            "\n",
            "Decision Tree model:\n",
            "Best Hyperparameters: {'criterion': 'gini', 'max_depth': 5, 'max_features': 'sqrt'}\n",
            "Mean cross-validated acuuracy score: 0.9143\n",
            "\n",
            "\n",
            "Random Forest model:\n",
            "Best Hyperparameters: {'max_depth': 1, 'max_features': 0.5, 'n_estimators': 20}\n",
            "Mean cross-validated acuuracy score: 0.9429\n",
            "\n",
            "\n",
            "Neural network model:\n",
            "Best Hyperparameters: {'alpha': 0.01, 'hidden_layer_sizes': 8, 'max_iter': 1000, 'solver': 'lbfgs'}\n",
            "Mean cross-validated acuuracy score: 0.9524\n"
          ]
        }
      ],
      "source": [
        "models_param_grid = {\n",
        "    'Naive Bayes': {\n",
        "        'var_smoothing': np.logspace(0, -9, num=100)\n",
        "    },\n",
        "    'Decision Tree': {\n",
        "        'max_features': ['sqrt', 'log2'],\n",
        "        'max_depth' : [5, 7, 9],\n",
        "        'criterion' : ['gini', 'entropy']\n",
        "    },\n",
        "    'Random Forest': {\n",
        "        'n_estimators': np.arange(20, 100, 10),\n",
        "        'max_features': np.arange(0.5, 1.0, 0.1),\n",
        "        'max_depth': np.arange(1, 20, 5)\n",
        "    },\n",
        "    'Neural network': {\n",
        "        'solver': ['lbfgs', 'adam', 'sgd'],\n",
        "        'max_iter': [1000, 1500, 2000],\n",
        "        'alpha': 10.0 ** -np.arange(2, 6),\n",
        "        'hidden_layer_sizes': 2 ** np.arange(3, 8)\n",
        "    }\n",
        "}\n",
        "for model_name, param_grid in models_param_grid.items():\n",
        "    grid_search_result = GridSearchCV(estimator=classifiers[model_name], param_grid=param_grid, n_jobs=-1, cv=5, scoring=\"accuracy\")\n",
        "    grid_search_result.fit(X_train, y_train)\n",
        "    print(f\"\\n\\n{model_name} model:\\nBest Hyperparameters: {grid_search_result.best_params_}\\nMean cross-validated acuuracy score: {grid_search_result.best_score_:.4f}\")"
      ]
    },
    {
      "cell_type": "markdown",
      "metadata": {
        "id": "uywG7PwBVVmc"
      },
      "source": [
        "# Testing on another dataset: Optical recognition of handwritten digits"
      ]
    },
    {
      "cell_type": "code",
      "execution_count": null,
      "metadata": {
        "id": "HTc7b8IkTz7T"
      },
      "outputs": [],
      "source": [
        "X_train, X_dev, y_train, y_dev = train_test_split(load_digits(as_frame=True)['data'], load_digits(as_frame=True)['target'], test_size=0.2, random_state=SEED)\n",
        "\n",
        "X_train, y_train, _  = data_preparation_after_split(X=X_train, y=y_train, is_train=True)\n",
        "parameters.update(_)\n",
        "X_dev = data_preparation_after_split(X=X_dev, y=None, is_train=False, parameters=parameters)"
      ]
    },
    {
      "cell_type": "code",
      "execution_count": null,
      "metadata": {
        "colab": {
          "base_uri": "https://localhost:8080/"
        },
        "id": "WLZJD7MHUrwy",
        "outputId": "6f9d0bb8-d774-40ba-d3f8-4da6278dd149"
      },
      "outputs": [
        {
          "name": "stdout",
          "output_type": "stream",
          "text": [
            "\n",
            "\n",
            "Naive Bayes model:\n",
            "Train Accuracy: 0.7996, Validation Accuracy: 0.7667\n",
            "Train Classification Report:\n",
            "              precision    recall  f1-score   support\n",
            "\n",
            "           0       0.97      0.99      0.98       145\n",
            "           1       0.78      0.73      0.75       154\n",
            "           2       0.99      0.49      0.65       144\n",
            "           3       0.99      0.72      0.84       149\n",
            "           4       0.99      0.59      0.74       135\n",
            "           5       0.84      0.94      0.89       135\n",
            "           6       0.89      0.99      0.94       146\n",
            "           7       0.61      0.99      0.76       145\n",
            "           8       0.54      0.85      0.66       144\n",
            "           9       0.91      0.70      0.79       140\n",
            "\n",
            "    accuracy                           0.80      1437\n",
            "   macro avg       0.85      0.80      0.80      1437\n",
            "weighted avg       0.85      0.80      0.80      1437\n",
            "\n",
            "Validation Classification Report:\n",
            "              precision    recall  f1-score   support\n",
            "\n",
            "           0       0.97      0.94      0.95        33\n",
            "           1       0.75      0.75      0.75        28\n",
            "           2       0.86      0.36      0.51        33\n",
            "           3       0.93      0.76      0.84        34\n",
            "           4       1.00      0.52      0.69        46\n",
            "           5       0.81      0.94      0.87        47\n",
            "           6       0.88      1.00      0.93        35\n",
            "           7       0.52      0.97      0.68        34\n",
            "           8       0.49      0.83      0.62        30\n",
            "           9       0.96      0.62      0.76        40\n",
            "\n",
            "    accuracy                           0.77       360\n",
            "   macro avg       0.82      0.77      0.76       360\n",
            "weighted avg       0.83      0.77      0.76       360\n",
            "\n",
            "\n",
            "\n",
            "Decision Tree model:\n",
            "Train Accuracy: 1.0000, Validation Accuracy: 0.8417\n",
            "Train Classification Report:\n",
            "              precision    recall  f1-score   support\n",
            "\n",
            "           0       1.00      1.00      1.00       145\n",
            "           1       1.00      1.00      1.00       154\n",
            "           2       1.00      1.00      1.00       144\n",
            "           3       1.00      1.00      1.00       149\n",
            "           4       1.00      1.00      1.00       135\n",
            "           5       1.00      1.00      1.00       135\n",
            "           6       1.00      1.00      1.00       146\n",
            "           7       1.00      1.00      1.00       145\n",
            "           8       1.00      1.00      1.00       144\n",
            "           9       1.00      1.00      1.00       140\n",
            "\n",
            "    accuracy                           1.00      1437\n",
            "   macro avg       1.00      1.00      1.00      1437\n",
            "weighted avg       1.00      1.00      1.00      1437\n",
            "\n",
            "Validation Classification Report:\n",
            "              precision    recall  f1-score   support\n",
            "\n",
            "           0       0.97      0.88      0.92        33\n",
            "           1       0.85      0.79      0.81        28\n",
            "           2       0.86      0.73      0.79        33\n",
            "           3       0.76      0.85      0.81        34\n",
            "           4       0.84      0.91      0.87        46\n",
            "           5       0.89      0.85      0.87        47\n",
            "           6       0.97      0.91      0.94        35\n",
            "           7       0.82      0.91      0.86        34\n",
            "           8       0.75      0.70      0.72        30\n",
            "           9       0.75      0.82      0.79        40\n",
            "\n",
            "    accuracy                           0.84       360\n",
            "   macro avg       0.84      0.84      0.84       360\n",
            "weighted avg       0.85      0.84      0.84       360\n",
            "\n",
            "\n",
            "\n",
            "Random Forest model:\n",
            "Train Accuracy: 1.0000, Validation Accuracy: 0.9722\n",
            "Train Classification Report:\n",
            "              precision    recall  f1-score   support\n",
            "\n",
            "           0       1.00      1.00      1.00       145\n",
            "           1       1.00      1.00      1.00       154\n",
            "           2       1.00      1.00      1.00       144\n",
            "           3       1.00      1.00      1.00       149\n",
            "           4       1.00      1.00      1.00       135\n",
            "           5       1.00      1.00      1.00       135\n",
            "           6       1.00      1.00      1.00       146\n",
            "           7       1.00      1.00      1.00       145\n",
            "           8       1.00      1.00      1.00       144\n",
            "           9       1.00      1.00      1.00       140\n",
            "\n",
            "    accuracy                           1.00      1437\n",
            "   macro avg       1.00      1.00      1.00      1437\n",
            "weighted avg       1.00      1.00      1.00      1437\n",
            "\n",
            "Validation Classification Report:\n",
            "              precision    recall  f1-score   support\n",
            "\n",
            "           0       1.00      0.97      0.98        33\n",
            "           1       0.97      1.00      0.98        28\n",
            "           2       1.00      1.00      1.00        33\n",
            "           3       1.00      0.94      0.97        34\n",
            "           4       0.98      1.00      0.99        46\n",
            "           5       0.94      0.96      0.95        47\n",
            "           6       0.97      0.97      0.97        35\n",
            "           7       0.97      0.97      0.97        34\n",
            "           8       0.97      0.97      0.97        30\n",
            "           9       0.95      0.95      0.95        40\n",
            "\n",
            "    accuracy                           0.97       360\n",
            "   macro avg       0.97      0.97      0.97       360\n",
            "weighted avg       0.97      0.97      0.97       360\n",
            "\n",
            "\n",
            "\n",
            "Neural network model:\n",
            "Train Accuracy: 1.0000, Validation Accuracy: 0.9806\n",
            "Train Classification Report:\n",
            "              precision    recall  f1-score   support\n",
            "\n",
            "           0       1.00      1.00      1.00       145\n",
            "           1       1.00      1.00      1.00       154\n",
            "           2       1.00      1.00      1.00       144\n",
            "           3       1.00      1.00      1.00       149\n",
            "           4       1.00      1.00      1.00       135\n",
            "           5       1.00      1.00      1.00       135\n",
            "           6       1.00      1.00      1.00       146\n",
            "           7       1.00      1.00      1.00       145\n",
            "           8       1.00      1.00      1.00       144\n",
            "           9       1.00      1.00      1.00       140\n",
            "\n",
            "    accuracy                           1.00      1437\n",
            "   macro avg       1.00      1.00      1.00      1437\n",
            "weighted avg       1.00      1.00      1.00      1437\n",
            "\n",
            "Validation Classification Report:\n",
            "              precision    recall  f1-score   support\n",
            "\n",
            "           0       1.00      1.00      1.00        33\n",
            "           1       1.00      1.00      1.00        28\n",
            "           2       1.00      1.00      1.00        33\n",
            "           3       0.97      0.97      0.97        34\n",
            "           4       0.98      1.00      0.99        46\n",
            "           5       0.98      0.96      0.97        47\n",
            "           6       0.97      0.97      0.97        35\n",
            "           7       1.00      0.97      0.99        34\n",
            "           8       0.97      1.00      0.98        30\n",
            "           9       0.95      0.95      0.95        40\n",
            "\n",
            "    accuracy                           0.98       360\n",
            "   macro avg       0.98      0.98      0.98       360\n",
            "weighted avg       0.98      0.98      0.98       360\n",
            "\n"
          ]
        }
      ],
      "source": [
        "for model_name, clf in classifiers.items():\n",
        "    clf.fit(X_train, y_train)\n",
        "    train_y_pred = clf.predict(X_train)\n",
        "    validation_y_pred = clf.predict(X_dev)\n",
        "    train_accuracy = accuracy_score(y_train, train_y_pred)\n",
        "    validation_accuracy = accuracy_score(y_dev, validation_y_pred)\n",
        "    train_classification_report = classification_report(y_train, train_y_pred)\n",
        "    validation_classification_report = classification_report(y_dev, validation_y_pred)\n",
        "    print(f\"\\n\\n{model_name} model:\\nTrain Accuracy: {train_accuracy:.4f}, Validation Accuracy: {validation_accuracy:.4f}\\nTrain Classification Report:\\n{train_classification_report}\\nValidation Classification Report:\\n{validation_classification_report}\")\n"
      ]
    },
    {
      "cell_type": "code",
      "execution_count": null,
      "metadata": {
        "colab": {
          "background_save": true,
          "base_uri": "https://localhost:8080/"
        },
        "id": "pJ7fxzQlUxHq",
        "outputId": "b17a7dc4-b63d-45d7-893e-c6a5518dacf8"
      },
      "outputs": [
        {
          "name": "stdout",
          "output_type": "stream",
          "text": [
            "\n",
            "\n",
            "Naive Bayes model:\n",
            "Best Hyperparameters: {'var_smoothing': 0.0657933224657568}\n",
            "Mean cross-validated acuuracy score: 0.8956\n",
            "\n",
            "\n",
            "Decision Tree model:\n",
            "Best Hyperparameters: {'criterion': 'entropy', 'max_depth': 9, 'max_features': 'sqrt'}\n",
            "Mean cross-validated acuuracy score: 0.7975\n",
            "\n",
            "\n",
            "Random Forest model:\n",
            "Best Hyperparameters: {'max_depth': 16, 'max_features': 0.5, 'n_estimators': 60}\n",
            "Mean cross-validated acuuracy score: 0.9617\n",
            "\n",
            "\n",
            "Neural network model:\n",
            "Best Hyperparameters: {'alpha': 0.01, 'hidden_layer_sizes': 64, 'max_iter': 1000, 'solver': 'adam'}\n",
            "Mean cross-validated acuuracy score: 0.9770\n"
          ]
        }
      ],
      "source": [
        "for model_name, param_grid in models_param_grid.items():\n",
        "    grid_search_result = GridSearchCV(estimator=classifiers[model_name], param_grid=param_grid, n_jobs=-1, cv=5, scoring=\"accuracy\")\n",
        "    grid_search_result.fit(X_train, y_train)\n",
        "    print(f\"\\n\\n{model_name} model:\\nBest Hyperparameters: {grid_search_result.best_params_}\\nMean cross-validated acuuracy score: {grid_search_result.best_score_:.4f}\")"
      ]
    }
  ],
  "metadata": {
    "accelerator": "GPU",
    "colab": {
      "provenance": []
    },
    "kernelspec": {
      "display_name": "Python 3",
      "name": "python3"
    },
    "language_info": {
      "name": "python"
    }
  },
  "nbformat": 4,
  "nbformat_minor": 0
}